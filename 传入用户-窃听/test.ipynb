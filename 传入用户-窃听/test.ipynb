{
 "cells": [
  {
   "cell_type": "code",
   "execution_count": 4,
   "metadata": {
    "collapsed": true
   },
   "outputs": [],
   "source": [
    "import numpy as np\n",
    "user_num=2"
   ]
  },
  {
   "cell_type": "code",
   "execution_count": 5,
   "outputs": [
    {
     "data": {
      "text/plain": "array([0.04008809, 0.03647456])"
     },
     "execution_count": 5,
     "metadata": {},
     "output_type": "execute_result"
    }
   ],
   "source": [
    "Hn_e1 = np.abs(0.1 * np.sqrt(1 / 2) * (np.random.normal(1, 0.1, user_num) + np.complex('j') *\n",
    "                                               np.random.normal(1, 0.1, user_num))) ** 2\n",
    "Hn_e2 = np.abs(0.1 * np.sqrt(1 / 2) * (np.random.normal(1, 0.1, user_num) + np.complex('j') *\n",
    "                                       np.random.normal(1, 0.1, user_num))) ** 2\n",
    "Hn_e3 = np.abs(0.1 * np.sqrt(1 / 2) * (np.random.normal(1, 0.1, user_num) + np.complex('j') *\n",
    "                                       np.random.normal(1, 0.1, user_num))) ** 2\n",
    "Hn_e4 = np.abs(0.1 * np.sqrt(1 / 2) * (np.random.normal(1, 0.1, user_num) + np.complex('j') *\n",
    "                                       np.random.normal(1, 0.1, user_num))) ** 2\n",
    "Hn_e5 = np.abs(0.1 * np.sqrt(1 / 2) * (np.random.normal(1, 0.1, user_num) + np.complex('j') *\n",
    "                                       np.random.normal(1, 0.1, user_num))) ** 2\n",
    "Hn_e = Hn_e2 + Hn_e3 + Hn_e4 + Hn_e5\n",
    "\n",
    "Hn_e"
   ],
   "metadata": {
    "collapsed": false,
    "pycharm": {
     "name": "#%%\n"
    }
   }
  },
  {
   "cell_type": "code",
   "execution_count": 3,
   "outputs": [
    {
     "data": {
      "text/plain": "array([[0.01109678, 0.01234598]])"
     },
     "execution_count": 3,
     "metadata": {},
     "output_type": "execute_result"
    }
   ],
   "source": [
    "Hn_e=np.zeros(shape=(1,2))\n",
    "\n",
    "Hn_1=np.zeros(shape=(1,2))\n",
    "\n",
    "Hn_2=np.zeros(shape=(1,2))\n",
    "for i in range(1):\n",
    "    Hn_e += (np.abs(0.1 * np.sqrt(1 / 2) * (np.random.normal(1, 0.1, 2) + np.complex('j') *\n",
    "                                               np.random.normal(1, 0.1, 2))) ** 2).reshape(1,2)\n",
    "for i in range(1):\n",
    "    Hn_1 += (np.abs(0.1 * np.sqrt(1 / 2) * (np.random.normal(1, 0.1, 2) + np.complex('j') *\n",
    "                                               np.random.normal(1, 0.1, 2))) ** 2).reshape(1,2)\n",
    "for i in range(1):\n",
    "    Hn_2 += (np.abs(0.1 * np.sqrt(1 / 2) * (np.random.normal(1, 0.1, 2) + np.complex('j') *\n",
    "                                               np.random.normal(1, 0.1, 2))) ** 2).reshape(1,2)"
   ],
   "metadata": {
    "collapsed": false,
    "pycharm": {
     "name": "#%%\n"
    }
   }
  },
  {
   "cell_type": "code",
   "execution_count": 4,
   "outputs": [
    {
     "ename": "NameError",
     "evalue": "name 'Hn_1' is not defined",
     "output_type": "error",
     "traceback": [
      "\u001B[0;31m---------------------------------------------------------------------------\u001B[0m",
      "\u001B[0;31mNameError\u001B[0m                                 Traceback (most recent call last)",
      "\u001B[0;32m<ipython-input-4-33e0f4604dbc>\u001B[0m in \u001B[0;36m<module>\u001B[0;34m\u001B[0m\n\u001B[0;32m----> 1\u001B[0;31m \u001B[0mnp\u001B[0m\u001B[0;34m.\u001B[0m\u001B[0marray\u001B[0m\u001B[0;34m(\u001B[0m\u001B[0mHn_e\u001B[0m\u001B[0;34m,\u001B[0m\u001B[0mHn_1\u001B[0m\u001B[0;34m,\u001B[0m\u001B[0mHn_2\u001B[0m\u001B[0;34m,\u001B[0m\u001B[0maxis\u001B[0m\u001B[0;34m=\u001B[0m\u001B[0;36m1\u001B[0m\u001B[0;34m)\u001B[0m\u001B[0;34m\u001B[0m\u001B[0;34m\u001B[0m\u001B[0m\n\u001B[0m",
      "\u001B[0;31mNameError\u001B[0m: name 'Hn_1' is not defined"
     ]
    }
   ],
   "source": [
    "np.array(Hn_e,Hn_1,Hn_2,axis=1)"
   ],
   "metadata": {
    "collapsed": false,
    "pycharm": {
     "name": "#%%\n"
    }
   }
  }
 ],
 "metadata": {
  "kernelspec": {
   "display_name": "Python 3",
   "language": "python",
   "name": "python3"
  },
  "language_info": {
   "codemirror_mode": {
    "name": "ipython",
    "version": 2
   },
   "file_extension": ".py",
   "mimetype": "text/x-python",
   "name": "python",
   "nbconvert_exporter": "python",
   "pygments_lexer": "ipython2",
   "version": "2.7.6"
  }
 },
 "nbformat": 4,
 "nbformat_minor": 0
}